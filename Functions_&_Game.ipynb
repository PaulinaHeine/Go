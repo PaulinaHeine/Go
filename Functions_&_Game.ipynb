{
  "nbformat": 4,
  "nbformat_minor": 0,
  "metadata": {
    "colab": {
      "provenance": [],
      "include_colab_link": true
    },
    "kernelspec": {
      "name": "python3",
      "display_name": "Python 3"
    },
    "language_info": {
      "name": "python"
    }
  },
  "cells": [
    {
      "cell_type": "markdown",
      "metadata": {
        "id": "view-in-github",
        "colab_type": "text"
      },
      "source": [
        "<a href=\"https://colab.research.google.com/github/PaulinaHeine/Go_Game/blob/main/Functions_%26_Game.ipynb\" target=\"_parent\"><img src=\"https://colab.research.google.com/assets/colab-badge.svg\" alt=\"Open In Colab\"/></a>"
      ]
    },
    {
      "cell_type": "markdown",
      "metadata": {
        "id": "YAzXsJu7Dlf2"
      },
      "source": [
        "#GO simple game\n"
      ]
    },
    {
      "cell_type": "markdown",
      "metadata": {
        "id": "-nUCBf6yEfsK"
      },
      "source": [
        "Create_board-function"
      ]
    },
    {
      "cell_type": "code",
      "metadata": {
        "id": "UfKcNSXdGc_D"
      },
      "source": [
        "def create_board():\n",
        "  '''\n",
        "  This function creates a list of lists, consisting of Zeros and safes it as \"board\" \n",
        "\n",
        "  There are no parameters in this function.\n",
        "\n",
        "  The function returns the board.\n",
        "  '''\n",
        "  \n",
        "  board = [[0] * 5 for i in range(5)]\n",
        "  return board"
      ],
      "execution_count": 19,
      "outputs": []
    },
    {
      "cell_type": "markdown",
      "metadata": {
        "id": "Emnn57dGEWtM"
      },
      "source": [
        "Given evaluate_liberties() function"
      ]
    },
    {
      "cell_type": "code",
      "metadata": {
        "id": "ypaB8AaSGbDA"
      },
      "source": [
        "# Modifies a given board (represented by a list of lists). The values in modified list of lists represent the following\n",
        "#0: empty \n",
        "#1: black stone \n",
        "#2: white stone \n",
        "#3: black stone with liberties \n",
        "#4: white stone with liberties\n",
        "def evaluate_liberties(board):\n",
        "  for _ in range(10):\n",
        "    for x in range(5):\n",
        "      for y in range(5):\n",
        "        position_state = board[x][y] \n",
        "        liberty_states = [0, position_state + 2]\n",
        "        if position_state in [1, 2]:\n",
        "          # Liberty above\n",
        "          if x > 0 and board[x-1][y] in liberty_states:\n",
        "            board[x][y] = position_state + 2\n",
        "          # Libery below\n",
        "          if x < 4 and board[x + 1][y] in liberty_states:\n",
        "            board[x][y] = position_state + 2 \n",
        "          # Liberty left\n",
        "          if y > 0 and board[x][y - 1] in liberty_states:\n",
        "            board[x][y] = position_state + 2\n",
        "          # Liberty right\n",
        "          if y < 4 and board[x][y + 1] in liberty_states:\n",
        "            board[x][y] = position_state + 2 "
      ],
      "execution_count": 20,
      "outputs": []
    },
    {
      "cell_type": "markdown",
      "metadata": {
        "id": "8vvPQLp0En4B"
      },
      "source": [
        "Check_move-function"
      ]
    },
    {
      "cell_type": "code",
      "metadata": {
        "id": "X3kZEYdIGn0V"
      },
      "source": [
        "#import regex to proof the string\n",
        "\n",
        "import regex as re\n",
        "\n",
        "def check_move(board,player,action):\n",
        "  '''\n",
        "  This function checks if the given action follows the rules of the game and the required syntax.\n",
        "\n",
        "  The parameters are board (list in lists), the player (\"B\" or \"W\") and action (which is an input())\n",
        "  \n",
        "  The function returns True or False, depending on if the action follows the rules of the game and fullfills the syntax.\n",
        "  '''\n",
        "\n",
        "  #First, check if the action is pass, this is a propper input so it returns True.\n",
        "  if re.match(\"^[P,p][A,a][S,s][S,s]\", action):\n",
        "    return True\n",
        "    \n",
        "  #If the action is not PASS, check if the syntax of the action follows the required syntax. If it does, i´´ve defined two variables for the location. \n",
        "  #Note that the for the y-axis i´´ve added one and made it negative, so that the origin of the board is bottom left.\n",
        "  if bool(re.match(\"^[0,1,2,3,4]x[0,1,2,3,4]$\",action)):\n",
        "    x = int(action[0])\n",
        "    y = -(int(action[2])+1)\n",
        "    #Here is checked if the requested field on the board is already occupied, if so, the funcion returns False.\n",
        "    if board[y][x] != 0:\n",
        "      return False\n",
        "    #If the required field is free, the function returns True.\n",
        "    elif board[y][x] == 0:\n",
        "      return True\n",
        "  #Here is defined, that if the input does not follows the syntax, the function returns False\n",
        "  elif bool(re.match(\"^[0,1,2,3,4]x[0,1,2,3,4]$\",action)) == False:\n",
        "    return False\n",
        "  \n"
      ],
      "execution_count": 21,
      "outputs": []
    },
    {
      "cell_type": "markdown",
      "metadata": {
        "id": "cJ0krFE3Evrn"
      },
      "source": [
        "Eliminate_stones-function and reset_board-function"
      ]
    },
    {
      "cell_type": "code",
      "metadata": {
        "id": "rTkzCN5IGqpw"
      },
      "source": [
        "def eliminate_stones(board):\n",
        "  '''\n",
        "  This function eliminates the stones without liberties from the board.\n",
        "\n",
        "  The function takes the argument board, because it needs the current \n",
        "  board (filled with 0,1,2,3 or 4) to know which stones need to be removed.\n",
        "\n",
        "  The function returns a board, only with stones that have liberties.\n",
        "  '''\n",
        "  #With two for loops we create all possible states of stones.\n",
        "  for x in range(5):\n",
        "    for y in range(5):\n",
        "      #We check if there are stones left without liberties and set them to zero, so we remove them from the board. \n",
        "      if board[x][y] == 1:\n",
        "        board[x][y] = 0\n",
        "      if board[x][y] == 2:\n",
        "        board[x][y] = 0\n",
        "\n",
        "  return board\n",
        "\n",
        "def reset_board(board):\n",
        "  '''\n",
        "  This function takes the returned board from the function eliminate_stones \n",
        "  and resets the threes and fours to ones and twos, so that these stones can be checked again for liberties after the next move\n",
        "\n",
        "   It returns an updated board that it´´s ready for the next move\n",
        "  '''\n",
        "\n",
        "  #With two for loops we create all possible states of stones.\n",
        "  for x in range(5):\n",
        "    for y in range(5):\n",
        "      #We check if the stones and set them to one and two, so we can start a new move.\n",
        "      if board[x][y] == 3:\n",
        "        board[x][y] = 1\n",
        "      if board[x][y] == 4:\n",
        "        board[x][y] = 2\n",
        "\n",
        "  return board"
      ],
      "execution_count": 22,
      "outputs": []
    },
    {
      "cell_type": "markdown",
      "metadata": {
        "id": "_RdOpi_PE5wZ"
      },
      "source": [
        "Cancellation-function"
      ]
    },
    {
      "cell_type": "code",
      "metadata": {
        "id": "yNCUqjNb-DQG"
      },
      "source": [
        "#Cancel-functions\n",
        "\n",
        "def cancellation(board):  \n",
        "  '''\n",
        "  This functions proofs, if the given board is full with stones, means that no field is free so the game should stop. \n",
        "\n",
        "  The function accepts the argument board, because it needs to check the if the fields of the current board are already occupied.\n",
        "\n",
        "  If the board is full, the function returns True. This True is later taken by the play_go function to end the game if neccessary.\n",
        "  '''\n",
        "\n",
        "  \n",
        "  count_full_fields = 0\n",
        "  #Than we check every position of the board.\n",
        "  for x in range(5):\n",
        "    for y in range(5):\n",
        "      #If the position equals not zero we increase our count variable by one.\n",
        "      if board[x][y] != 0:\n",
        "        count_full_fields += 1\n",
        "  #If our board is full, means the count variable equals 25, the function returns True\n",
        "  if count_full_fields == 25:\n",
        "    return True\n",
        "\n",
        "def two_times_pass(made_actions):\n",
        "  '''\n",
        "  This functions proofs, if the action equals \"PASS\" two times consecutively. If this is the case, the function returns True \n",
        "\n",
        "  The function takes the argument made_actions, which is a list, to compare the inputs.\n",
        "\n",
        "  If the last two arguments of the function are PASS, the function returns True\n",
        "  '''\n",
        "  #We only need to check this if the list has more or exact two arguments, because only if there are \n",
        "  #already two inputs, it can be two times \"PASS\", so we first ckeck the lenght of the list.\n",
        "  if len(made_actions)>=2:\n",
        "    #Then we check, if the last two given arguments equals \"PASS\".\n",
        "    if re.match(\"^[P,p][A,a][S,s][S,s]\", made_actions[-1]):\n",
        "      if re.match(\"^[P,p][A,a][S,s][S,s]\", made_actions[-2]):\n",
        "        return True"
      ],
      "execution_count": 23,
      "outputs": []
    },
    {
      "cell_type": "markdown",
      "metadata": {
        "id": "Ux9nlJe4E9mm"
      },
      "source": [
        "Make_move-function"
      ]
    },
    {
      "cell_type": "code",
      "metadata": {
        "id": "2ZweFCU_GthR"
      },
      "source": [
        "def make_move(board,player,action):\n",
        "\n",
        "  '''\n",
        "  This function executes the given action by the player, whose turn it is.\n",
        "\n",
        "  The function takes the current board that needs to be updated.\n",
        "  It also takes the player so the function knows if it´s the move from the black or white player and so if it should place a 1 or 2 on the board.\n",
        "  The action argument is needed to know, where to place the new stone.\n",
        "\n",
        "  The function returns the updated board.\n",
        "  '''\n",
        "\n",
        "  if re.match(\"^[P,p][A,a][S,s][S,s]\", action):\n",
        "    pass\n",
        "\n",
        "  #If the player does not want to pass, we place the new stone on the requested field.\n",
        "  else:\n",
        "    y = -(int(action[2])+1)\n",
        "    x = int(action[0])\n",
        "    if player == \"W\":\n",
        "      board[y][x] = 2\n",
        "    elif player == \"B\":\n",
        "      board[y][x] = 1\n",
        "\n",
        "  #We check if the board is full with the cancellation function before the stones without liberties are removed. If the board is completly full.\n",
        "  #The game is stopped (I only implemented this here for the play_go function, so that it´´s clear when we don´´t need to ask for another input.)\n",
        "  if cancellation(board):\n",
        "    game_runs = False\n",
        "\n",
        "  #If the game goes on, we have to check if there are liberties, we do that with the given liberties function.\n",
        "  evaluate_liberties(board)\n",
        "\n",
        "  #After checking the liberties and set them to 3 or 4. We need to remove the stones without liberties. Tis is done with the eliminate_stone function.\n",
        "  eliminate_stones(board)\n",
        "  \n",
        "  #Then we need to reset the threes and fours to ones and twos again, to restart the make_move-function. If we don´´t do that and leave the fields filled\n",
        "  #with threes and fours, the function will noch check these fields for liberties at the next move. So its very important to reset them.\n",
        "  reset_board(board)\n",
        "\n",
        "  \n",
        "  return board\n",
        "\n",
        "\n"
      ],
      "execution_count": 24,
      "outputs": []
    },
    {
      "cell_type": "markdown",
      "metadata": {
        "id": "V6LgT2wqFAkM"
      },
      "source": [
        "Score_board-function"
      ]
    },
    {
      "cell_type": "code",
      "metadata": {
        "id": "kARXgWV2GzA4"
      },
      "source": [
        "def score(board):\n",
        "  '''\n",
        "  This function checks the score of the two players.\n",
        "\n",
        "  It takes the board argument, to evaluate the score of the two players.\n",
        "\n",
        "  It returns the result of the given board\n",
        "  '''\n",
        "\n",
        "  score_count_w = 0\n",
        "  score_count_b = 0\n",
        "  \n",
        "  #We check each position on the board for a stone from the players. For each stone we increase the count variable of the player by one.\n",
        "  for x in range(5):\n",
        "    for y in range(5):\n",
        "      if board[x][y] == 1:\n",
        "        score_count_b += 1\n",
        "      elif board[x][y] == 2:\n",
        "        score_count_w += 1\n",
        "  \n",
        "  return score_count_b,score_count_w\n"
      ],
      "execution_count": 25,
      "outputs": []
    },
    {
      "cell_type": "markdown",
      "metadata": {
        "id": "6K1a51nWFEEu"
      },
      "source": [
        "Tests that are provided by you"
      ]
    },
    {
      "cell_type": "code",
      "metadata": {
        "id": "d3dPSVH7G1VS"
      },
      "source": [
        "# Each test case is a tuple consisting of a list of moves in the order they are input and the expected output of the \"score\"-function\n",
        "# Note that even if all provided tests are passed, your implementation still might not fulfill the given specification.\n",
        "test_1 = (['1x1', '4x4', '3x3', 'PASS', 'PASS'], (2,1))\n",
        "test_2 = (['1x1', '0x0', '0x1', '2x2', '1x0'], (3,1))\n",
        "test_3 = (['4x4', '1x1', '0x0', '0x1', '2x2', '1x0'], (2,3))\n",
        "test_4 = (['xx3', '2x2', '3x4'], (1,1))\n",
        "test_5 = (['2x2', '2x2', 'PASS'], (1,0))\n",
        "\n",
        "tests = [test_1, test_2, test_3, test_4, test_5]"
      ],
      "execution_count": 26,
      "outputs": []
    },
    {
      "cell_type": "markdown",
      "metadata": {
        "id": "zYEm4FPnFKex"
      },
      "source": [
        "Given run_tests-function"
      ]
    },
    {
      "cell_type": "code",
      "metadata": {
        "colab": {
          "base_uri": "https://localhost:8080/"
        },
        "id": "C2xavUheG3QO",
        "outputId": "4341bc2b-c1b9-44d7-eb4c-70044c9d510d"
      },
      "source": [
        "# If your functions work properly, this should print out True in each case\n",
        "def run_tests(tests):\n",
        "  results = []\n",
        "  for i, test in enumerate(tests):\n",
        "    players = ['B', 'W']\n",
        "    board = create_board()\n",
        "    for turn, move in enumerate(test[0]):\n",
        "      if check_move(board, players[turn%2], move):\n",
        "        board = make_move(board, players[turn%2], move)\n",
        "    result = score(board) == test[1]\n",
        "    results.append(result)\n",
        "    print(i, result)\n",
        "  print(f'Tests passed: {sum(results)} of {len(results)}, {100*sum(results)/len(results)}%')\n",
        "\n",
        "run_tests(tests) "
      ],
      "execution_count": 27,
      "outputs": [
        {
          "output_type": "stream",
          "name": "stdout",
          "text": [
            "0 True\n",
            "1 True\n",
            "2 True\n",
            "3 True\n",
            "4 True\n",
            "Tests passed: 5 of 5, 100.0%\n"
          ]
        }
      ]
    },
    {
      "cell_type": "markdown",
      "metadata": {
        "id": "tMRrzCgCFPH2"
      },
      "source": [
        "Board_print-function"
      ]
    },
    {
      "cell_type": "code",
      "metadata": {
        "id": "ENdCWYT9X47c"
      },
      "source": [
        "def board_print(board):\n",
        "  '''\n",
        "  This function only prints the current board in a nice way, so that the players can easily see, how the current board looks like.\n",
        "\n",
        "  The function takes the argument board, because it needs the current board, to print each row.\n",
        "\n",
        "  The function prints the board in a pretty way.\n",
        "  '''\n",
        "\n",
        "  #Change the ones and twos to \"B\"s and \"A\"s, so the players knows which stone belongs to who. I also changed the empty fields to \"-\",\n",
        "  #so the lenght of the lists does not change if we add stones to the board and it´´s directly clear which fields are already occupied.\n",
        "  for x in range(5):\n",
        "    for y in range(5):\n",
        "      if board[x][y] == 1:\n",
        "        board[x][y] = \"B\"\n",
        "      if board[x][y] == 2:\n",
        "        board[x][y] = \"W\"\n",
        "      if board[x][y] == 0:\n",
        "        board[x][y] = \"-\"\n",
        " \n",
        "  print(\"\\n\".join(str(row)for row in board))\n",
        "\n",
        "  #To reuse the board, the original board with ones and twos is needes, so its reseted here.\n",
        "  for x in range(5):\n",
        "    for y in range(5):\n",
        "      if board[x][y] == \"B\":\n",
        "        board[x][y] = 1\n",
        "      if board[x][y] == \"W\":\n",
        "        board[x][y] = 2\n",
        "      if board[x][y] == \"-\":\n",
        "        board[x][y] = 0\n",
        "      \n",
        "\n"
      ],
      "execution_count": 28,
      "outputs": []
    },
    {
      "cell_type": "markdown",
      "metadata": {
        "id": "eIjd1w5QFSFj"
      },
      "source": [
        "Evaluate_winner-function"
      ]
    },
    {
      "cell_type": "code",
      "metadata": {
        "id": "SxmViEM0deAh"
      },
      "source": [
        "def evaluate_winner(score_count_b,score_count_w):\n",
        "  '''\n",
        "  This function should compare the scores of the two players and evaluates, which of the players won the game.\n",
        "\n",
        "  The funtion takes the two scores of the players to compare them.\n",
        "\n",
        "  The funcion returns the winner and the loser, once the whole name of the player and then only the first letter of the player who has won and who has lost.\n",
        "  '''\n",
        "\n",
        "  if score_count_b < score_count_w:\n",
        "    winner = \"White\"\n",
        "    loser = \"Black\"\n",
        "    winner_short = \"W\"\n",
        "    loser_short = \"B\"\n",
        "  \n",
        "  if score_count_b > score_count_w:\n",
        "    winner = \"Black\"\n",
        "    loser = \"White\"\n",
        "    winner_short = \"B\"\n",
        "    loser_short = \"W\"\n",
        "  \n",
        "  if score_count_b == score_count_w:\n",
        "    winner = \"White\"\n",
        "    loser = \"Black\"\n",
        "    winner_short = \"W\"\n",
        "    loser_short = \"B\"\n",
        "  \n",
        "  return winner,loser, winner_short, loser_short"
      ],
      "execution_count": 29,
      "outputs": []
    },
    {
      "cell_type": "markdown",
      "metadata": {
        "id": "Ak7-I0geFXG5"
      },
      "source": [
        "Play_go-function"
      ]
    },
    {
      "cell_type": "code",
      "metadata": {
        "id": "emDQvljIIceq"
      },
      "source": [
        "def play_go():\n",
        "  '''\n",
        "  This function simulates a whole game. The players are asked for theire actions and they can play a whole game.\n",
        "  I´´ve written some rules that are specific to my game at the beginning e.g.: how my rows and collumns work for a given Input.\n",
        "  Also this function, tells exacly whos turn it is and what the player did wrong, if he did not followed the syntax or wants to place a stone\n",
        "  where already a stone is placed.\n",
        "\n",
        "  This function takes no arguments, all the parameters are in the body of the function.\n",
        "\n",
        "  The function should return \"B\" if Black wins and \"W\" if White wins\n",
        "  '''\n",
        "\n",
        "  \n",
        "  \n",
        "  game_runs = True\n",
        "\n",
        "  board = create_board()\n",
        "\n",
        "  \n",
        "  players = [\"B\",\"W\"]\n",
        "  players_full_name = [\"Player Black\",\"Player White\"]\n",
        "\n",
        "  #This variable defines, whose turn it is.\n",
        "  turn = 0\n",
        "\n",
        "  #Empty list, where later the function two_times_pass can add the input.\n",
        "  made_actions = []\n",
        "\n",
        "\n",
        "  print(\"Welcome to the game: GO!\\nPlease note that the required Input has the form 'digit from 0 to 4xdigit from zero to 4' e.g.: 1x2 .\\nThe first digit stands for the element (zero is the first element), the last digit stands for the the row (zero is the first row).\\nTo start the game, insert your move.\\nGood luck and have fun! Let´s Go :)\")\n",
        "  print(\" \")\n",
        "\n",
        "  #With this while condition, we defined how long the game should run.\n",
        "  while game_runs:\n",
        "      \n",
        "    print(f\"{players_full_name[turn%2]}, please type in your move:\")\n",
        "    action = input()\n",
        "    #Here is checked if the input has an accepted syntax and the requested field is empty.\n",
        "    if check_move(board, players[turn%2], action):\n",
        "      board = make_move(board, players[turn%2], action)\n",
        "      #Here we append the action to the list made_actions to check if the input was PASS two times\n",
        "      made_actions.append(action)\n",
        "      print(\"The current Board looks like:\")\n",
        "      board_print(board)\n",
        "      print(f\"The current score is {score(board)}\")\n",
        "      print(\" \")\n",
        "\n",
        "    #If the check move function returns a False, we need to check where the mistake in the input is.\n",
        "    else:\n",
        "      #We need to ask so long for a valid input, until the user givs us one. This we set up with a while condition.\n",
        "      while check_move(board, players[turn%2], action) == False:\n",
        "        #Here we check, if the syntax of the input is correct. \n",
        "        if bool(re.match(\"^[0,1,2,3,4]x[0,1,2,3,4]$\",action)) == False:\n",
        "            print(f\"The syntax of your input is wrong, {players_full_name[turn%2]} please try: digitxdigit. Digits = 0,1,2,3,4. For example 4x4. \")\n",
        "            action =input()\n",
        "            #When the input has the correct form, we do the same steps as in the case, where the user types in an accepted input. \n",
        "            if check_move(board, players[turn%2], action):\n",
        "              board = make_move(board, players[turn%2], action)\n",
        "              made_actions.append(action)\n",
        "              print(\"The current board looks like:\")\n",
        "              board_print(board)\n",
        "              print(f\"The current score is {score(board)}\")\n",
        "              print(\" \")\n",
        "              break\n",
        "        \n",
        "        #Here we check if the syntax is correct and the requested field already occupied.\n",
        "        if bool(re.match(\"^[0,1,2,3,4]x[0,1,2,3,4]$\",action)) == True and board[-(int(action[2])+1)][int(action[0])] != 0:\n",
        "            print(f\"The field you try to settle on is already occupied {players_full_name[turn%2]}. Please try to move on an empty field\")\n",
        "            action =input()\n",
        "            #When the input has the correct form, we do the same steps as in the case, where the user types in an accepted input.\n",
        "            if check_move(board, players[turn%2], action):\n",
        "              board = make_move(board, players[turn%2], action)\n",
        "              made_actions.append(action)\n",
        "              print(\"The current board looks like:\")\n",
        "              board_print(board)\n",
        "              print(f\"The current score is {score(board)}\")\n",
        "              print(\" \")\n",
        "              break\n",
        "    \n",
        "    #When the move is fullfilled, we add one to the variable turn, this causes an automatical change from the players.\n",
        "    turn += 1\n",
        "\n",
        "    #Now we proof, if the game needs to be stopped. For this we use one of the functions that I defined earlier, the two_times_pass-function. \n",
        "    #If it returns a True, the variable game_runs is set to False. This will stop the while condition and the game is ended. \n",
        "    if two_times_pass(made_actions):\n",
        "      game_runs = False\n",
        "\n",
        "  #Now the game has ended, we need to find the winner of the game. We set our score variables for the two players and set the winner and the loser variables.\n",
        "  score_count_b,score_count_w = score(board)\n",
        "  winner,loser, winner_short, loser_short = evaluate_winner(score_count_b,score_count_w)\n",
        "\n",
        "  print(f\"The game has endet! The final score is: {score(board)}. So the winner is {winner}!\\nCongratulations to {winner} :) ! And better luck next time to {loser} \")\n",
        "  \n",
        "  return winner_short"
      ],
      "execution_count": 30,
      "outputs": []
    },
    {
      "cell_type": "code",
      "source": [
        "play_go(\n",
        "    \n",
        "    \n",
        ")"
      ],
      "metadata": {
        "id": "veALYWa48eUZ",
        "outputId": "2f01dac0-1ce7-4cf1-cb70-2cd36efd1bb7",
        "colab": {
          "base_uri": "https://localhost:8080/",
          "height": 681
        }
      },
      "execution_count": 31,
      "outputs": [
        {
          "output_type": "stream",
          "name": "stdout",
          "text": [
            "Welcome to the game: GO!\n",
            "Please note that the required Input has the form 'digit from 0 to 4xdigit from zero to 4' e.g.: 1x2 .\n",
            "The first digit stands for the element (zero is the first element), the last digit stands for the the row (zero is the first row).\n",
            "To start the game, insert your move.\n",
            "Good luck and have fun! Let´s Go :)\n",
            " \n",
            "Player Black, please type in your move:\n",
            "1x2\n",
            "The current Board looks like:\n",
            "['-', '-', '-', '-', '-']\n",
            "['-', '-', '-', '-', '-']\n",
            "['-', 'B', '-', '-', '-']\n",
            "['-', '-', '-', '-', '-']\n",
            "['-', '-', '-', '-', '-']\n",
            "The current score is (1, 0)\n",
            " \n",
            "Player White, please type in your move:\n",
            "pAss\n",
            "The current Board looks like:\n",
            "['-', '-', '-', '-', '-']\n",
            "['-', '-', '-', '-', '-']\n",
            "['-', 'B', '-', '-', '-']\n",
            "['-', '-', '-', '-', '-']\n",
            "['-', '-', '-', '-', '-']\n",
            "The current score is (1, 0)\n",
            " \n",
            "Player Black, please type in your move:\n",
            "PASS\n",
            "The current Board looks like:\n",
            "['-', '-', '-', '-', '-']\n",
            "['-', '-', '-', '-', '-']\n",
            "['-', 'B', '-', '-', '-']\n",
            "['-', '-', '-', '-', '-']\n",
            "['-', '-', '-', '-', '-']\n",
            "The current score is (1, 0)\n",
            " \n",
            "The game has endet! The final score is: (1, 0). So the winner is Black!\n",
            "Congratulations to Black :) ! And better luck next time to White \n"
          ]
        },
        {
          "output_type": "execute_result",
          "data": {
            "text/plain": [
              "'B'"
            ],
            "application/vnd.google.colaboratory.intrinsic+json": {
              "type": "string"
            }
          },
          "metadata": {},
          "execution_count": 31
        }
      ]
    },
    {
      "cell_type": "code",
      "source": [],
      "metadata": {
        "id": "IvfXblUs-AN4"
      },
      "execution_count": null,
      "outputs": []
    }
  ]
}